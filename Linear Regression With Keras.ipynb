{
 "cells": [
  {
   "cell_type": "code",
   "execution_count": 8,
   "metadata": {},
   "outputs": [],
   "source": [
    "from keras.models import Sequential\n",
    "from keras.layers import Dense \n",
    "from keras.optimizers import Adam, SGD\n",
    "\n",
    "\n",
    "%matplotlib inline\n",
    "import matplotlib.pyplot as plt\n",
    "import numpy as np\n",
    "import pandas as pd"
   ]
  },
  {
   "cell_type": "code",
   "execution_count": 9,
   "metadata": {},
   "outputs": [],
   "source": [
    "df=pd.read_csv('weight-height.csv')"
   ]
  },
  {
   "cell_type": "code",
   "execution_count": 10,
   "metadata": {},
   "outputs": [],
   "source": [
    "X=df[['Height']].values\n",
    "y_true=df[['Weight']].values"
   ]
  },
  {
   "cell_type": "code",
   "execution_count": 11,
   "metadata": {},
   "outputs": [
    {
     "data": {
      "text/plain": [
       "array([[73.84701702],\n",
       "       [68.78190405],\n",
       "       [74.11010539],\n",
       "       ...,\n",
       "       [63.86799221],\n",
       "       [69.03424313],\n",
       "       [61.94424588]])"
      ]
     },
     "execution_count": 11,
     "metadata": {},
     "output_type": "execute_result"
    }
   ],
   "source": [
    "X"
   ]
  },
  {
   "cell_type": "code",
   "execution_count": 12,
   "metadata": {},
   "outputs": [
    {
     "data": {
      "text/plain": [
       "(10000, 1)"
      ]
     },
     "execution_count": 12,
     "metadata": {},
     "output_type": "execute_result"
    }
   ],
   "source": [
    "X.shape"
   ]
  },
  {
   "cell_type": "code",
   "execution_count": 13,
   "metadata": {},
   "outputs": [],
   "source": [
    "model = Sequential()\n",
    "model.add(Dense(1, input_shape=(1,)))"
   ]
  },
  {
   "cell_type": "code",
   "execution_count": 14,
   "metadata": {},
   "outputs": [
    {
     "name": "stdout",
     "output_type": "stream",
     "text": [
      "Model: \"sequential\"\n",
      "_________________________________________________________________\n",
      " Layer (type)                Output Shape              Param #   \n",
      "=================================================================\n",
      " dense (Dense)               (None, 1)                 2         \n",
      "                                                                 \n",
      "=================================================================\n",
      "Total params: 2\n",
      "Trainable params: 2\n",
      "Non-trainable params: 0\n",
      "_________________________________________________________________\n"
     ]
    }
   ],
   "source": [
    "model.summary()"
   ]
  },
  {
   "cell_type": "code",
   "execution_count": 15,
   "metadata": {},
   "outputs": [
    {
     "name": "stderr",
     "output_type": "stream",
     "text": [
      "C:\\ProgramData\\Anaconda3\\lib\\site-packages\\keras\\optimizers\\optimizer_v2\\adam.py:114: UserWarning: The `lr` argument is deprecated, use `learning_rate` instead.\n",
      "  super().__init__(name, **kwargs)\n"
     ]
    }
   ],
   "source": [
    "model.compile(Adam(lr=0.8), 'mean_squared_error')"
   ]
  },
  {
   "cell_type": "code",
   "execution_count": 16,
   "metadata": {},
   "outputs": [
    {
     "name": "stdout",
     "output_type": "stream",
     "text": [
      "Epoch 1/40\n",
      "313/313 [==============================] - 0s 710us/step - loss: 1463.5310\n",
      "Epoch 2/40\n",
      "313/313 [==============================] - 0s 707us/step - loss: 565.8907\n",
      "Epoch 3/40\n",
      "313/313 [==============================] - 0s 697us/step - loss: 533.4108\n",
      "Epoch 4/40\n",
      "313/313 [==============================] - 0s 687us/step - loss: 501.1999\n",
      "Epoch 5/40\n",
      "313/313 [==============================] - 0s 697us/step - loss: 450.7668\n",
      "Epoch 6/40\n",
      "313/313 [==============================] - 0s 694us/step - loss: 423.1904\n",
      "Epoch 7/40\n",
      "313/313 [==============================] - 0s 690us/step - loss: 407.8417\n",
      "Epoch 8/40\n",
      "313/313 [==============================] - 0s 713us/step - loss: 358.7887\n",
      "Epoch 9/40\n",
      "313/313 [==============================] - 0s 693us/step - loss: 315.1202\n",
      "Epoch 10/40\n",
      "313/313 [==============================] - 0s 704us/step - loss: 303.1403\n",
      "Epoch 11/40\n",
      "313/313 [==============================] - 0s 703us/step - loss: 267.9164\n",
      "Epoch 12/40\n",
      "313/313 [==============================] - 0s 698us/step - loss: 260.9555\n",
      "Epoch 13/40\n",
      "313/313 [==============================] - 0s 699us/step - loss: 228.6234\n",
      "Epoch 14/40\n",
      "313/313 [==============================] - 0s 691us/step - loss: 227.8494\n",
      "Epoch 15/40\n",
      "313/313 [==============================] - 0s 699us/step - loss: 222.7685\n",
      "Epoch 16/40\n",
      "313/313 [==============================] - 0s 711us/step - loss: 213.7776\n",
      "Epoch 17/40\n",
      "313/313 [==============================] - 0s 702us/step - loss: 191.9661\n",
      "Epoch 18/40\n",
      "313/313 [==============================] - 0s 703us/step - loss: 192.8968\n",
      "Epoch 19/40\n",
      "313/313 [==============================] - 0s 696us/step - loss: 185.8045\n",
      "Epoch 20/40\n",
      "313/313 [==============================] - 0s 684us/step - loss: 193.0874\n",
      "Epoch 21/40\n",
      "313/313 [==============================] - 0s 690us/step - loss: 180.1991\n",
      "Epoch 22/40\n",
      "313/313 [==============================] - 0s 673us/step - loss: 185.6601\n",
      "Epoch 23/40\n",
      "313/313 [==============================] - 0s 666us/step - loss: 179.8902\n",
      "Epoch 24/40\n",
      "313/313 [==============================] - 0s 694us/step - loss: 209.2739\n",
      "Epoch 25/40\n",
      "313/313 [==============================] - 0s 701us/step - loss: 171.6369\n",
      "Epoch 26/40\n",
      "313/313 [==============================] - 0s 702us/step - loss: 181.1343\n",
      "Epoch 27/40\n",
      "313/313 [==============================] - 0s 702us/step - loss: 196.4422\n",
      "Epoch 28/40\n",
      "313/313 [==============================] - 0s 696us/step - loss: 175.1188\n",
      "Epoch 29/40\n",
      "313/313 [==============================] - 0s 686us/step - loss: 178.5441\n",
      "Epoch 30/40\n",
      "313/313 [==============================] - 0s 675us/step - loss: 182.5370\n",
      "Epoch 31/40\n",
      "313/313 [==============================] - 0s 691us/step - loss: 185.5353\n",
      "Epoch 32/40\n",
      "313/313 [==============================] - 0s 681us/step - loss: 169.8870\n",
      "Epoch 33/40\n",
      "313/313 [==============================] - 0s 704us/step - loss: 178.2325\n",
      "Epoch 34/40\n",
      "313/313 [==============================] - 0s 684us/step - loss: 180.3540\n",
      "Epoch 35/40\n",
      "313/313 [==============================] - 0s 690us/step - loss: 177.3358\n",
      "Epoch 36/40\n",
      "313/313 [==============================] - 0s 685us/step - loss: 179.4679\n",
      "Epoch 37/40\n",
      "313/313 [==============================] - 0s 678us/step - loss: 181.8899\n",
      "Epoch 38/40\n",
      "313/313 [==============================] - 0s 690us/step - loss: 192.7554\n",
      "Epoch 39/40\n",
      "313/313 [==============================] - 0s 698us/step - loss: 176.1420\n",
      "Epoch 40/40\n",
      "313/313 [==============================] - 0s 695us/step - loss: 175.6974\n"
     ]
    },
    {
     "data": {
      "text/plain": [
       "<keras.callbacks.History at 0x244a57eafd0>"
      ]
     },
     "execution_count": 16,
     "metadata": {},
     "output_type": "execute_result"
    }
   ],
   "source": [
    "model.fit(X,y_true, epochs=40)"
   ]
  },
  {
   "cell_type": "code",
   "execution_count": 17,
   "metadata": {},
   "outputs": [
    {
     "name": "stdout",
     "output_type": "stream",
     "text": [
      "313/313 [==============================] - 0s 536us/step\n"
     ]
    }
   ],
   "source": [
    "y_pred=model.predict(X)"
   ]
  },
  {
   "cell_type": "code",
   "execution_count": 18,
   "metadata": {},
   "outputs": [
    {
     "data": {
      "text/plain": [
       "array([[214.79102],\n",
       "       [176.21954],\n",
       "       [216.7945 ],\n",
       "       ...,\n",
       "       [138.7995 ],\n",
       "       [178.14111],\n",
       "       [124.1499 ]], dtype=float32)"
      ]
     },
     "execution_count": 18,
     "metadata": {},
     "output_type": "execute_result"
    }
   ],
   "source": [
    "y_pred"
   ]
  },
  {
   "cell_type": "code",
   "execution_count": 19,
   "metadata": {},
   "outputs": [
    {
     "data": {
      "text/plain": [
       "[<matplotlib.lines.Line2D at 0x244a69c6b50>]"
      ]
     },
     "execution_count": 19,
     "metadata": {},
     "output_type": "execute_result"
    },
    {
     "data": {
      "image/png": "[encoded data removed]",
      "text/plain": [
       "<Figure size 432x288 with 1 Axes>"
      ]
     },
     "metadata": {
      "needs_background": "light"
     },
     "output_type": "display_data"
    }
   ],
   "source": [
    "df.plot(kind='scatter',\n",
    "       x='Height',\n",
    "       y='Weight', title='Weight and Height in adults')\n",
    "plt.plot(X, y_pred, color='red', linewidth=3)"
   ]
  },
  {
   "cell_type": "code",
   "execution_count": 20,
   "metadata": {},
   "outputs": [],
   "source": [
    "w,b=model.get_weights()"
   ]
  },
  {
   "cell_type": "code",
   "execution_count": 21,
   "metadata": {},
   "outputs": [
    {
     "data": {
      "text/plain": [
       "array([[7.6151266]], dtype=float32)"
      ]
     },
     "execution_count": 21,
     "metadata": {},
     "output_type": "execute_result"
    }
   ],
   "source": [
    "w"
   ]
  },
  {
   "cell_type": "code",
   "execution_count": 22,
   "metadata": {},
   "outputs": [
    {
     "data": {
      "text/plain": [
       "array([-347.56335], dtype=float32)"
      ]
     },
     "execution_count": 22,
     "metadata": {},
     "output_type": "execute_result"
    }
   ],
   "source": [
    "b"
   ]
  },
  {
   "cell_type": "code",
   "execution_count": 23,
   "metadata": {},
   "outputs": [
    {
     "data": {
      "text/plain": [
       "10000"
      ]
     },
     "execution_count": 23,
     "metadata": {},
     "output_type": "execute_result"
    }
   ],
   "source": [
    "len(X)"
   ]
  },
  {
   "cell_type": "code",
   "execution_count": 24,
   "metadata": {},
   "outputs": [
    {
     "name": "stdout",
     "output_type": "stream",
     "text": [
      "1/1 [==============================] - 0s 42ms/step\n"
     ]
    },
    {
     "data": {
      "text/plain": [
       "array([[1175.4619]], dtype=float32)"
      ]
     },
     "execution_count": 24,
     "metadata": {},
     "output_type": "execute_result"
    }
   ],
   "source": [
    "model.predict([[200]])"
   ]
  },
  {
   "cell_type": "code",
   "execution_count": null,
   "metadata": {},
   "outputs": [],
   "source": []
  },
  {
   "cell_type": "code",
   "execution_count": null,
   "metadata": {},
   "outputs": [],
   "source": []
  }
 ],
 "metadata": {
  "kernelspec": {
   "display_name": "Python 3 (ipykernel)",
   "language": "python",
   "name": "python3"
  },
  "language_info": {
   "codemirror_mode": {
    "name": "ipython",
    "version": 3
   },
   "file_extension": ".py",
   "mimetype": "text/x-python",
   "name": "python",
   "nbconvert_exporter": "python",
   "pygments_lexer": "ipython3",
   "version": "3.9.7"
  }
 },
 "nbformat": 4,
 "nbformat_minor": 2
}
